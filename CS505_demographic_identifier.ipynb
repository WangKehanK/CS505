{
  "nbformat": 4,
  "nbformat_minor": 0,
  "metadata": {
    "colab": {
      "name": "CS505-demographic-identifier.ipynb",
      "provenance": [],
      "authorship_tag": "ABX9TyNcR6VjKtDelviqH3fdxetf",
      "include_colab_link": true
    },
    "kernelspec": {
      "name": "python3",
      "display_name": "Python 3"
    },
    "language_info": {
      "name": "python"
    }
  },
  "cells": [
    {
      "cell_type": "markdown",
      "metadata": {
        "id": "view-in-github",
        "colab_type": "text"
      },
      "source": [
        "<a href=\"https://colab.research.google.com/github/WangKehanK/CS505/blob/main/CS505_demographic_identifier.ipynb\" target=\"_parent\"><img src=\"https://colab.research.google.com/assets/colab-badge.svg\" alt=\"Open In Colab\"/></a>"
      ]
    },
    {
      "cell_type": "code",
      "metadata": {
        "id": "EAQMq2x0k-8N"
      },
      "source": [
        "import numpy as np\n",
        "import pandas as pd\n"
      ],
      "execution_count": 13,
      "outputs": []
    },
    {
      "cell_type": "code",
      "metadata": {
        "id": "NQS-blVlmJr7"
      },
      "source": [
        "df = pd.read_csv(\"/content/Twitter_users_labeled_with_age_and_gender.csv\", encoding= 'unicode_escape')"
      ],
      "execution_count": 14,
      "outputs": []
    },
    {
      "cell_type": "code",
      "metadata": {
        "id": "mDA5V4Kgp4h3"
      },
      "source": [
        "del df[\"Unnamed: 0\"]"
      ],
      "execution_count": 17,
      "outputs": []
    },
    {
      "cell_type": "code",
      "metadata": {
        "id": "R3-SHoESmbEr",
        "colab": {
          "base_uri": "https://localhost:8080/",
          "height": 275
        },
        "outputId": "c7763b6f-82e5-46d5-bfff-ab790837f2f3"
      },
      "source": [
        "df.head()"
      ],
      "execution_count": 18,
      "outputs": [
        {
          "output_type": "execute_result",
          "data": {
            "text/html": [
              "<div>\n",
              "<style scoped>\n",
              "    .dataframe tbody tr th:only-of-type {\n",
              "        vertical-align: middle;\n",
              "    }\n",
              "\n",
              "    .dataframe tbody tr th {\n",
              "        vertical-align: top;\n",
              "    }\n",
              "\n",
              "    .dataframe thead th {\n",
              "        text-align: right;\n",
              "    }\n",
              "</style>\n",
              "<table border=\"1\" class=\"dataframe\">\n",
              "  <thead>\n",
              "    <tr style=\"text-align: right;\">\n",
              "      <th></th>\n",
              "      <th>screen_name</th>\n",
              "      <th>user_id</th>\n",
              "      <th>lang</th>\n",
              "      <th>name</th>\n",
              "      <th>location</th>\n",
              "      <th>description</th>\n",
              "      <th>protected</th>\n",
              "      <th>followers_count</th>\n",
              "      <th>friends_count</th>\n",
              "      <th>statuses_count</th>\n",
              "      <th>favourites_count</th>\n",
              "      <th>account_created_at</th>\n",
              "      <th>verified</th>\n",
              "      <th>profile_banner_url</th>\n",
              "      <th>profile_background_url</th>\n",
              "      <th>profile_image_url</th>\n",
              "      <th>user.name</th>\n",
              "      <th>num.tweets.used.Lexicon.prediction</th>\n",
              "      <th>Lexicon.age.prediction</th>\n",
              "      <th>Lexicon.gender.prediction..index.</th>\n",
              "      <th>lexicon.gender.prediction</th>\n",
              "      <th>human.labeled.gender</th>\n",
              "      <th>human.labeled.age</th>\n",
              "    </tr>\n",
              "  </thead>\n",
              "  <tbody>\n",
              "    <tr>\n",
              "      <th>0</th>\n",
              "      <td>_____zac_____</td>\n",
              "      <td>4.614412e+08</td>\n",
              "      <td>en</td>\n",
              "      <td>zac ¢</td>\n",
              "      <td>Maryland, USA</td>\n",
              "      <td>_____Û___È_Ü´Ù</td>\n",
              "      <td>False</td>\n",
              "      <td>208</td>\n",
              "      <td>178</td>\n",
              "      <td>27912</td>\n",
              "      <td>4179</td>\n",
              "      <td>1/11/12 20:19</td>\n",
              "      <td>False</td>\n",
              "      <td>https://pbs.twimg.com/profile_banners/46144118...</td>\n",
              "      <td>http://abs.twimg.com/images/themes/theme1/bg.png</td>\n",
              "      <td>http://pbs.twimg.com/profile_images/1226134911...</td>\n",
              "      <td>@_____zac_____</td>\n",
              "      <td>100.0</td>\n",
              "      <td>27.652434</td>\n",
              "      <td>-1.457167</td>\n",
              "      <td>M</td>\n",
              "      <td>NaN</td>\n",
              "      <td>23.0</td>\n",
              "    </tr>\n",
              "    <tr>\n",
              "      <th>1</th>\n",
              "      <td>___aleia</td>\n",
              "      <td>7.650000e+17</td>\n",
              "      <td>en</td>\n",
              "      <td>_æ___ dad ___æ_</td>\n",
              "      <td>Ohio, USA</td>\n",
              "      <td>BLACK. LIVES. MATTER.</td>\n",
              "      <td>False</td>\n",
              "      <td>466</td>\n",
              "      <td>388</td>\n",
              "      <td>3313</td>\n",
              "      <td>23454</td>\n",
              "      <td>8/14/16 19:45</td>\n",
              "      <td>False</td>\n",
              "      <td>https://pbs.twimg.com/profile_banners/76491083...</td>\n",
              "      <td>NaN</td>\n",
              "      <td>http://pbs.twimg.com/profile_images/1271280679...</td>\n",
              "      <td>@___aleia</td>\n",
              "      <td>100.0</td>\n",
              "      <td>24.111464</td>\n",
              "      <td>0.985713</td>\n",
              "      <td>F</td>\n",
              "      <td>NaN</td>\n",
              "      <td>19.0</td>\n",
              "    </tr>\n",
              "    <tr>\n",
              "      <th>2</th>\n",
              "      <td>___Dals</td>\n",
              "      <td>4.361882e+08</td>\n",
              "      <td>it</td>\n",
              "      <td>_ê_ê___ê__ê_ __</td>\n",
              "      <td>NJ</td>\n",
              "      <td>NaN</td>\n",
              "      <td>False</td>\n",
              "      <td>3744</td>\n",
              "      <td>1465</td>\n",
              "      <td>97563</td>\n",
              "      <td>22499</td>\n",
              "      <td>12/13/11 22:07</td>\n",
              "      <td>False</td>\n",
              "      <td>https://pbs.twimg.com/profile_banners/43618822...</td>\n",
              "      <td>http://abs.twimg.com/images/themes/theme14/bg.gif</td>\n",
              "      <td>http://pbs.twimg.com/profile_images/1267852466...</td>\n",
              "      <td>@___Dals</td>\n",
              "      <td>100.0</td>\n",
              "      <td>30.628957</td>\n",
              "      <td>0.734656</td>\n",
              "      <td>F</td>\n",
              "      <td>F</td>\n",
              "      <td>NaN</td>\n",
              "    </tr>\n",
              "    <tr>\n",
              "      <th>3</th>\n",
              "      <td>___schaeffer___</td>\n",
              "      <td>1.257110e+09</td>\n",
              "      <td>en</td>\n",
              "      <td>Brenden Schaeffer</td>\n",
              "      <td>The Lou</td>\n",
              "      <td>Culver-Stockton College '20 ¢ Ô_Ô_Ô KM 1548...</td>\n",
              "      <td>False</td>\n",
              "      <td>811</td>\n",
              "      <td>660</td>\n",
              "      <td>26670</td>\n",
              "      <td>72205</td>\n",
              "      <td>3/10/13 14:07</td>\n",
              "      <td>False</td>\n",
              "      <td>https://pbs.twimg.com/profile_banners/12571104...</td>\n",
              "      <td>http://abs.twimg.com/images/themes/theme1/bg.png</td>\n",
              "      <td>http://pbs.twimg.com/profile_images/1268044218...</td>\n",
              "      <td>@___schaeffer___</td>\n",
              "      <td>59.0</td>\n",
              "      <td>35.518352</td>\n",
              "      <td>-3.591586</td>\n",
              "      <td>M</td>\n",
              "      <td>NaN</td>\n",
              "      <td>22.0</td>\n",
              "    </tr>\n",
              "    <tr>\n",
              "      <th>4</th>\n",
              "      <td>__andresiscool</td>\n",
              "      <td>1.030000e+18</td>\n",
              "      <td>en</td>\n",
              "      <td>Andres Navarro</td>\n",
              "      <td>NaN</td>\n",
              "      <td>NaN</td>\n",
              "      <td>False</td>\n",
              "      <td>245</td>\n",
              "      <td>184</td>\n",
              "      <td>8731</td>\n",
              "      <td>18574</td>\n",
              "      <td>8/27/18 5:21</td>\n",
              "      <td>False</td>\n",
              "      <td>https://pbs.twimg.com/profile_banners/10339476...</td>\n",
              "      <td>NaN</td>\n",
              "      <td>http://pbs.twimg.com/profile_images/1272229718...</td>\n",
              "      <td>@__andresiscool</td>\n",
              "      <td>100.0</td>\n",
              "      <td>21.014222</td>\n",
              "      <td>-1.623685</td>\n",
              "      <td>M</td>\n",
              "      <td>M</td>\n",
              "      <td>NaN</td>\n",
              "    </tr>\n",
              "  </tbody>\n",
              "</table>\n",
              "</div>"
            ],
            "text/plain": [
              "       screen_name       user_id  ... human.labeled.gender human.labeled.age\n",
              "0    _____zac_____  4.614412e+08  ...                  NaN              23.0\n",
              "1         ___aleia  7.650000e+17  ...                  NaN              19.0\n",
              "2          ___Dals  4.361882e+08  ...                    F               NaN\n",
              "3  ___schaeffer___  1.257110e+09  ...                  NaN              22.0\n",
              "4   __andresiscool  1.030000e+18  ...                    M               NaN\n",
              "\n",
              "[5 rows x 23 columns]"
            ]
          },
          "metadata": {
            "tags": []
          },
          "execution_count": 18
        }
      ]
    },
    {
      "cell_type": "code",
      "metadata": {
        "colab": {
          "base_uri": "https://localhost:8080/"
        },
        "id": "j024IuCIp7K1",
        "outputId": "dfabec56-73e8-40e4-f4b1-d3ed2e37d3b6"
      },
      "source": [
        "df['human.labeled.gender'].value_counts()/np.float(len(df))"
      ],
      "execution_count": 20,
      "outputs": [
        {
          "output_type": "execute_result",
          "data": {
            "text/plain": [
              "F    0.361585\n",
              "M    0.292073\n",
              "Name: human.labeled.gender, dtype: float64"
            ]
          },
          "metadata": {
            "tags": []
          },
          "execution_count": 20
        }
      ]
    },
    {
      "cell_type": "code",
      "metadata": {
        "colab": {
          "base_uri": "https://localhost:8080/"
        },
        "id": "qHFAPyrlrZJJ",
        "outputId": "bfd45a89-f94d-424f-ea6b-65d10052a8a5"
      },
      "source": [
        "df['lexicon.gender.prediction'].value_counts()/np.float(len(df))"
      ],
      "execution_count": 21,
      "outputs": [
        {
          "output_type": "execute_result",
          "data": {
            "text/plain": [
              "M    0.503354\n",
              "F    0.493902\n",
              "Name: lexicon.gender.prediction, dtype: float64"
            ]
          },
          "metadata": {
            "tags": []
          },
          "execution_count": 21
        }
      ]
    },
    {
      "cell_type": "code",
      "metadata": {
        "id": "pgUAVT-9rzJF"
      },
      "source": [
        ""
      ],
      "execution_count": null,
      "outputs": []
    }
  ]
}