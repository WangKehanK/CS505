{
  "nbformat": 4,
  "nbformat_minor": 0,
  "metadata": {
    "colab": {
      "name": "CS505-demographic-identifier.ipynb",
      "provenance": [],
      "include_colab_link": true
    },
    "kernelspec": {
      "name": "python3",
      "display_name": "Python 3"
    },
    "language_info": {
      "name": "python"
    }
  },
  "cells": [
    {
      "cell_type": "markdown",
      "metadata": {
        "id": "view-in-github",
        "colab_type": "text"
      },
      "source": [
        "<a href=\"https://colab.research.google.com/github/WangKehanK/CS505/blob/main/Twitter%20User%20Age%20and%20Gender.ipynb\" target=\"_parent\"><img src=\"https://colab.research.google.com/assets/colab-badge.svg\" alt=\"Open In Colab\"/></a>"
      ]
    },
    {
      "cell_type": "markdown",
      "metadata": {
        "id": "qMAi9DPo4woR"
      },
      "source": [
        "# Prediction on age, gender with M3 inference"
      ]
    },
    {
      "cell_type": "markdown",
      "metadata": {
        "id": "xMI4DQmejnbb"
      },
      "source": [
        "m3inference\n",
        "\n",
        "https://github.com/euagendas/m3inference#existing-json-twitter-data"
      ]
    },
    {
      "cell_type": "code",
      "metadata": {
        "colab": {
          "base_uri": "https://localhost:8080/"
        },
        "id": "frlUYrxsCjZZ",
        "outputId": "2fc9979b-3e2f-40dd-aab9-7ad8e1612f68"
      },
      "source": [
        "!pip install m3inference"
      ],
      "execution_count": 1,
      "outputs": [
        {
          "output_type": "stream",
          "text": [
            "Collecting m3inference\n",
            "\u001b[?25l  Downloading https://files.pythonhosted.org/packages/ea/88/df1f455fd29addf4efe6b6fab346b214ccab33144fa94b8efbf5d874a732/m3inference-1.1.4-py3-none-any.whl (58kB)\n",
            "\r\u001b[K     |█████▋                          | 10kB 16.3MB/s eta 0:00:01\r\u001b[K     |███████████▏                    | 20kB 15.4MB/s eta 0:00:01\r\u001b[K     |████████████████▉               | 30kB 10.2MB/s eta 0:00:01\r\u001b[K     |██████████████████████▍         | 40kB 8.3MB/s eta 0:00:01\r\u001b[K     |████████████████████████████    | 51kB 4.6MB/s eta 0:00:01\r\u001b[K     |████████████████████████████████| 61kB 3.1MB/s \n",
            "\u001b[?25hRequirement already satisfied: torchvision>=0.2.2 in /usr/local/lib/python3.7/dist-packages (from m3inference) (0.9.1+cu101)\n",
            "Requirement already satisfied: numpy>=1.13 in /usr/local/lib/python3.7/dist-packages (from m3inference) (1.19.5)\n",
            "Requirement already satisfied: Pillow in /usr/local/lib/python3.7/dist-packages (from m3inference) (7.1.2)\n",
            "Requirement already satisfied: tqdm in /usr/local/lib/python3.7/dist-packages (from m3inference) (4.41.1)\n",
            "Requirement already satisfied: requests in /usr/local/lib/python3.7/dist-packages (from m3inference) (2.23.0)\n",
            "Collecting rauth\n",
            "  Downloading https://files.pythonhosted.org/packages/43/aa/7c8e852275394d65ac5bf3ac9945ecaafe4d083089e09cb0a267efea389a/rauth-0.7.3.tar.gz\n",
            "Requirement already satisfied: pandas>=0.20 in /usr/local/lib/python3.7/dist-packages (from m3inference) (1.1.5)\n",
            "Collecting pycld2>=0.31\n",
            "\u001b[?25l  Downloading https://files.pythonhosted.org/packages/21/d2/8b0def84a53c88d0eb27c67b05269fbd16ad68df8c78849e7b5d65e6aec3/pycld2-0.41.tar.gz (41.4MB)\n",
            "\u001b[K     |████████████████████████████████| 41.4MB 83kB/s \n",
            "\u001b[?25hRequirement already satisfied: torch>=1.0.0 in /usr/local/lib/python3.7/dist-packages (from m3inference) (1.8.1+cu101)\n",
            "Requirement already satisfied: chardet<4,>=3.0.2 in /usr/local/lib/python3.7/dist-packages (from requests->m3inference) (3.0.4)\n",
            "Requirement already satisfied: urllib3!=1.25.0,!=1.25.1,<1.26,>=1.21.1 in /usr/local/lib/python3.7/dist-packages (from requests->m3inference) (1.24.3)\n",
            "Requirement already satisfied: idna<3,>=2.5 in /usr/local/lib/python3.7/dist-packages (from requests->m3inference) (2.10)\n",
            "Requirement already satisfied: certifi>=2017.4.17 in /usr/local/lib/python3.7/dist-packages (from requests->m3inference) (2020.12.5)\n",
            "Requirement already satisfied: pytz>=2017.2 in /usr/local/lib/python3.7/dist-packages (from pandas>=0.20->m3inference) (2018.9)\n",
            "Requirement already satisfied: python-dateutil>=2.7.3 in /usr/local/lib/python3.7/dist-packages (from pandas>=0.20->m3inference) (2.8.1)\n",
            "Requirement already satisfied: typing-extensions in /usr/local/lib/python3.7/dist-packages (from torch>=1.0.0->m3inference) (3.7.4.3)\n",
            "Requirement already satisfied: six>=1.5 in /usr/local/lib/python3.7/dist-packages (from python-dateutil>=2.7.3->pandas>=0.20->m3inference) (1.15.0)\n",
            "Building wheels for collected packages: rauth, pycld2\n",
            "  Building wheel for rauth (setup.py) ... \u001b[?25l\u001b[?25hdone\n",
            "  Created wheel for rauth: filename=rauth-0.7.3-cp37-none-any.whl size=16055 sha256=2aef011934958a8efe4c1e042dd37f902335b8b4e53b06652a94513368a6970f\n",
            "  Stored in directory: /root/.cache/pip/wheels/7b/94/5d/81afc278dd5da884a0002563dc4b0fe85f9067a5a40f76f858\n",
            "  Building wheel for pycld2 (setup.py) ... \u001b[?25l\u001b[?25hdone\n",
            "  Created wheel for pycld2: filename=pycld2-0.41-cp37-cp37m-linux_x86_64.whl size=9834249 sha256=336e4c921c35d10bd544b40dc7c77b6c730c36b1bd0101ac73e0dd3b9a6d3cbe\n",
            "  Stored in directory: /root/.cache/pip/wheels/c6/8f/e9/08a1a8932a490175bd140206cd86a3dbcfc70498100de11079\n",
            "Successfully built rauth pycld2\n",
            "Installing collected packages: rauth, pycld2, m3inference\n",
            "Successfully installed m3inference-1.1.4 pycld2-0.41 rauth-0.7.3\n"
          ],
          "name": "stdout"
        }
      ]
    },
    {
      "cell_type": "code",
      "metadata": {
        "id": "EAQMq2x0k-8N"
      },
      "source": [
        "import numpy as np\n",
        "import pandas as pd\n",
        "from m3inference import M3Twitter\n",
        "import json\n",
        "import os\n",
        "import pprint"
      ],
      "execution_count": 2,
      "outputs": []
    },
    {
      "cell_type": "code",
      "metadata": {
        "colab": {
          "base_uri": "https://localhost:8080/"
        },
        "id": "puDcaqYNmfGP",
        "outputId": "a370a90d-eeee-4a16-cf0c-d11a89616439"
      },
      "source": [
        "from google.colab import drive\n",
        "drive.mount('/content/drive')"
      ],
      "execution_count": 3,
      "outputs": [
        {
          "output_type": "stream",
          "text": [
            "Mounted at /content/drive\n"
          ],
          "name": "stdout"
        }
      ]
    },
    {
      "cell_type": "code",
      "metadata": {
        "id": "NQS-blVlmJr7"
      },
      "source": [
        "df = pd.read_csv(\"/content/drive/MyDrive/Twitter_user_handles_to_predict.csv\", encoding = \"utf-8\")\n",
        "df_labeled = pd.read_csv(\"/content/drive/My Drive/Twitter_users_labeled_with_age_and_gender.csv\", encoding = \"latin-1\")\n"
      ],
      "execution_count": 4,
      "outputs": []
    },
    {
      "cell_type": "code",
      "metadata": {
        "id": "xXL6fbvHd_-l",
        "colab": {
          "base_uri": "https://localhost:8080/"
        },
        "outputId": "1e4b346d-cfcd-4202-f7ed-9234009b02ca"
      },
      "source": [
        "df.info()"
      ],
      "execution_count": 5,
      "outputs": [
        {
          "output_type": "stream",
          "text": [
            "<class 'pandas.core.frame.DataFrame'>\n",
            "RangeIndex: 25129 entries, 0 to 25128\n",
            "Data columns (total 2 columns):\n",
            " #   Column    Non-Null Count  Dtype \n",
            "---  ------    --------------  ----- \n",
            " 0   ID        25129 non-null  int64 \n",
            " 1   Username  25128 non-null  object\n",
            "dtypes: int64(1), object(1)\n",
            "memory usage: 392.8+ KB\n"
          ],
          "name": "stdout"
        }
      ]
    },
    {
      "cell_type": "code",
      "metadata": {
        "colab": {
          "base_uri": "https://localhost:8080/",
          "height": 326
        },
        "id": "JJ6gVozEmwUH",
        "outputId": "45283c3c-4154-47c8-81ff-e913d263f10a"
      },
      "source": [
        "df_labeled.head()"
      ],
      "execution_count": 7,
      "outputs": [
        {
          "output_type": "execute_result",
          "data": {
            "text/html": [
              "<div>\n",
              "<style scoped>\n",
              "    .dataframe tbody tr th:only-of-type {\n",
              "        vertical-align: middle;\n",
              "    }\n",
              "\n",
              "    .dataframe tbody tr th {\n",
              "        vertical-align: top;\n",
              "    }\n",
              "\n",
              "    .dataframe thead th {\n",
              "        text-align: right;\n",
              "    }\n",
              "</style>\n",
              "<table border=\"1\" class=\"dataframe\">\n",
              "  <thead>\n",
              "    <tr style=\"text-align: right;\">\n",
              "      <th></th>\n",
              "      <th>Unnamed: 0</th>\n",
              "      <th>screen_name</th>\n",
              "      <th>user_id</th>\n",
              "      <th>lang</th>\n",
              "      <th>name</th>\n",
              "      <th>location</th>\n",
              "      <th>description</th>\n",
              "      <th>protected</th>\n",
              "      <th>followers_count</th>\n",
              "      <th>friends_count</th>\n",
              "      <th>statuses_count</th>\n",
              "      <th>favourites_count</th>\n",
              "      <th>account_created_at</th>\n",
              "      <th>verified</th>\n",
              "      <th>profile_banner_url</th>\n",
              "      <th>profile_background_url</th>\n",
              "      <th>profile_image_url</th>\n",
              "      <th>user.name</th>\n",
              "      <th>num.tweets.used.Lexicon.prediction</th>\n",
              "      <th>Lexicon.age.prediction</th>\n",
              "      <th>Lexicon.gender.prediction..index.</th>\n",
              "      <th>lexicon.gender.prediction</th>\n",
              "      <th>human.labeled.gender</th>\n",
              "      <th>human.labeled.age</th>\n",
              "    </tr>\n",
              "  </thead>\n",
              "  <tbody>\n",
              "    <tr>\n",
              "      <th>0</th>\n",
              "      <td>1</td>\n",
              "      <td>_____zac_____</td>\n",
              "      <td>4.614412e+08</td>\n",
              "      <td>en</td>\n",
              "      <td>zac ¢</td>\n",
              "      <td>Maryland, USA</td>\n",
              "      <td>_____Û___È_Ü´Ù</td>\n",
              "      <td>False</td>\n",
              "      <td>208</td>\n",
              "      <td>178</td>\n",
              "      <td>27912</td>\n",
              "      <td>4179</td>\n",
              "      <td>1/11/12 20:19</td>\n",
              "      <td>False</td>\n",
              "      <td>https://pbs.twimg.com/profile_banners/46144118...</td>\n",
              "      <td>http://abs.twimg.com/images/themes/theme1/bg.png</td>\n",
              "      <td>http://pbs.twimg.com/profile_images/1226134911...</td>\n",
              "      <td>@_____zac_____</td>\n",
              "      <td>100.0</td>\n",
              "      <td>27.652434</td>\n",
              "      <td>-1.457167</td>\n",
              "      <td>M</td>\n",
              "      <td>NaN</td>\n",
              "      <td>23.0</td>\n",
              "    </tr>\n",
              "    <tr>\n",
              "      <th>1</th>\n",
              "      <td>2</td>\n",
              "      <td>___aleia</td>\n",
              "      <td>7.650000e+17</td>\n",
              "      <td>en</td>\n",
              "      <td>_æ___ dad ___æ_</td>\n",
              "      <td>Ohio, USA</td>\n",
              "      <td>BLACK. LIVES. MATTER.</td>\n",
              "      <td>False</td>\n",
              "      <td>466</td>\n",
              "      <td>388</td>\n",
              "      <td>3313</td>\n",
              "      <td>23454</td>\n",
              "      <td>8/14/16 19:45</td>\n",
              "      <td>False</td>\n",
              "      <td>https://pbs.twimg.com/profile_banners/76491083...</td>\n",
              "      <td>NaN</td>\n",
              "      <td>http://pbs.twimg.com/profile_images/1271280679...</td>\n",
              "      <td>@___aleia</td>\n",
              "      <td>100.0</td>\n",
              "      <td>24.111464</td>\n",
              "      <td>0.985713</td>\n",
              "      <td>F</td>\n",
              "      <td>NaN</td>\n",
              "      <td>19.0</td>\n",
              "    </tr>\n",
              "    <tr>\n",
              "      <th>2</th>\n",
              "      <td>3</td>\n",
              "      <td>___Dals</td>\n",
              "      <td>4.361882e+08</td>\n",
              "      <td>it</td>\n",
              "      <td>_ê_ê___ê__ê_ __</td>\n",
              "      <td>NJ</td>\n",
              "      <td>NaN</td>\n",
              "      <td>False</td>\n",
              "      <td>3744</td>\n",
              "      <td>1465</td>\n",
              "      <td>97563</td>\n",
              "      <td>22499</td>\n",
              "      <td>12/13/11 22:07</td>\n",
              "      <td>False</td>\n",
              "      <td>https://pbs.twimg.com/profile_banners/43618822...</td>\n",
              "      <td>http://abs.twimg.com/images/themes/theme14/bg.gif</td>\n",
              "      <td>http://pbs.twimg.com/profile_images/1267852466...</td>\n",
              "      <td>@___Dals</td>\n",
              "      <td>100.0</td>\n",
              "      <td>30.628957</td>\n",
              "      <td>0.734656</td>\n",
              "      <td>F</td>\n",
              "      <td>F</td>\n",
              "      <td>NaN</td>\n",
              "    </tr>\n",
              "    <tr>\n",
              "      <th>3</th>\n",
              "      <td>4</td>\n",
              "      <td>___schaeffer___</td>\n",
              "      <td>1.257110e+09</td>\n",
              "      <td>en</td>\n",
              "      <td>Brenden Schaeffer</td>\n",
              "      <td>The Lou</td>\n",
              "      <td>Culver-Stockton College '20 ¢ Ô_Ô_Ô KM 1548...</td>\n",
              "      <td>False</td>\n",
              "      <td>811</td>\n",
              "      <td>660</td>\n",
              "      <td>26670</td>\n",
              "      <td>72205</td>\n",
              "      <td>3/10/13 14:07</td>\n",
              "      <td>False</td>\n",
              "      <td>https://pbs.twimg.com/profile_banners/12571104...</td>\n",
              "      <td>http://abs.twimg.com/images/themes/theme1/bg.png</td>\n",
              "      <td>http://pbs.twimg.com/profile_images/1268044218...</td>\n",
              "      <td>@___schaeffer___</td>\n",
              "      <td>59.0</td>\n",
              "      <td>35.518352</td>\n",
              "      <td>-3.591586</td>\n",
              "      <td>M</td>\n",
              "      <td>NaN</td>\n",
              "      <td>22.0</td>\n",
              "    </tr>\n",
              "    <tr>\n",
              "      <th>4</th>\n",
              "      <td>5</td>\n",
              "      <td>__andresiscool</td>\n",
              "      <td>1.030000e+18</td>\n",
              "      <td>en</td>\n",
              "      <td>Andres Navarro</td>\n",
              "      <td>NaN</td>\n",
              "      <td>NaN</td>\n",
              "      <td>False</td>\n",
              "      <td>245</td>\n",
              "      <td>184</td>\n",
              "      <td>8731</td>\n",
              "      <td>18574</td>\n",
              "      <td>8/27/18 5:21</td>\n",
              "      <td>False</td>\n",
              "      <td>https://pbs.twimg.com/profile_banners/10339476...</td>\n",
              "      <td>NaN</td>\n",
              "      <td>http://pbs.twimg.com/profile_images/1272229718...</td>\n",
              "      <td>@__andresiscool</td>\n",
              "      <td>100.0</td>\n",
              "      <td>21.014222</td>\n",
              "      <td>-1.623685</td>\n",
              "      <td>M</td>\n",
              "      <td>M</td>\n",
              "      <td>NaN</td>\n",
              "    </tr>\n",
              "  </tbody>\n",
              "</table>\n",
              "</div>"
            ],
            "text/plain": [
              "   Unnamed: 0      screen_name  ...  human.labeled.gender human.labeled.age\n",
              "0           1    _____zac_____  ...                   NaN              23.0\n",
              "1           2         ___aleia  ...                   NaN              19.0\n",
              "2           3          ___Dals  ...                     F               NaN\n",
              "3           4  ___schaeffer___  ...                   NaN              22.0\n",
              "4           5   __andresiscool  ...                     M               NaN\n",
              "\n",
              "[5 rows x 24 columns]"
            ]
          },
          "metadata": {
            "tags": []
          },
          "execution_count": 7
        }
      ]
    },
    {
      "cell_type": "code",
      "metadata": {
        "id": "R3-SHoESmbEr",
        "colab": {
          "base_uri": "https://localhost:8080/",
          "height": 204
        },
        "outputId": "1bcb69b8-d905-4985-9320-1be6d0b1421f"
      },
      "source": [
        "df.head()"
      ],
      "execution_count": 8,
      "outputs": [
        {
          "output_type": "execute_result",
          "data": {
            "text/html": [
              "<div>\n",
              "<style scoped>\n",
              "    .dataframe tbody tr th:only-of-type {\n",
              "        vertical-align: middle;\n",
              "    }\n",
              "\n",
              "    .dataframe tbody tr th {\n",
              "        vertical-align: top;\n",
              "    }\n",
              "\n",
              "    .dataframe thead th {\n",
              "        text-align: right;\n",
              "    }\n",
              "</style>\n",
              "<table border=\"1\" class=\"dataframe\">\n",
              "  <thead>\n",
              "    <tr style=\"text-align: right;\">\n",
              "      <th></th>\n",
              "      <th>ID</th>\n",
              "      <th>Username</th>\n",
              "    </tr>\n",
              "  </thead>\n",
              "  <tbody>\n",
              "    <tr>\n",
              "      <th>0</th>\n",
              "      <td>1</td>\n",
              "      <td>JayHolz410</td>\n",
              "    </tr>\n",
              "    <tr>\n",
              "      <th>1</th>\n",
              "      <td>2</td>\n",
              "      <td>kelechief</td>\n",
              "    </tr>\n",
              "    <tr>\n",
              "      <th>2</th>\n",
              "      <td>3</td>\n",
              "      <td>VicSpencer</td>\n",
              "    </tr>\n",
              "    <tr>\n",
              "      <th>3</th>\n",
              "      <td>4</td>\n",
              "      <td>ItsAlexDodson</td>\n",
              "    </tr>\n",
              "    <tr>\n",
              "      <th>4</th>\n",
              "      <td>5</td>\n",
              "      <td>xopinkvodka6</td>\n",
              "    </tr>\n",
              "  </tbody>\n",
              "</table>\n",
              "</div>"
            ],
            "text/plain": [
              "   ID       Username\n",
              "0   1     JayHolz410\n",
              "1   2      kelechief\n",
              "2   3     VicSpencer\n",
              "3   4  ItsAlexDodson\n",
              "4   5   xopinkvodka6"
            ]
          },
          "metadata": {
            "tags": []
          },
          "execution_count": 8
        }
      ]
    },
    {
      "cell_type": "code",
      "metadata": {
        "id": "3Gv_uF5lDNWD"
      },
      "source": [
        "user_list = df['Username'].tolist()\n",
        "id_list = df_labeled['user_id'].tolist()"
      ],
      "execution_count": 9,
      "outputs": []
    },
    {
      "cell_type": "code",
      "metadata": {
        "id": "HtMtINoPC0gW",
        "colab": {
          "base_uri": "https://localhost:8080/"
        },
        "outputId": "85dddbb1-f0db-4240-d128-7280660bd659"
      },
      "source": [
        "username = user_list[0] # try one user first, we can loop over the entire user list to get all the user detail\n",
        "m3cachedir = \"drive/MyDrive/cachedir\"\n",
        "\n",
        "if not os.path.exists(m3cachedir):\n",
        "  os.mkdir(m3cachedir)\n",
        "\n",
        "with open(f'/content/{m3cachedir}/{username}.json', 'w') as json_file:\n",
        "  # initialization\n",
        "  m3twitter=M3Twitter()\n",
        "\n",
        "  # remember to upload Twitter API keys, format as https://github.com/euagendas/m3inference/blob/master/scripts/auth_example.txt\n",
        "  m3twitter.twitter_init_from_file(\"/content/drive/MyDrive/auth.txt\")\n",
        "\n",
        "  # you can also use m3twitter.infer_id(id = \"....\")\n",
        "  user_detail = m3twitter.infer_screen_name(username)\n",
        "\n",
        "  # print the user detail\n",
        "  pprint.pprint(user_detail)\n",
        "  # save the user detail for future use\n",
        "  json.dump(user_detail, json_file)\n"
      ],
      "execution_count": 10,
      "outputs": [
        {
          "output_type": "stream",
          "text": [
            "04/06/2021 05:24:23 - INFO - m3inference.m3inference -   Version 1.1.4\n",
            "04/06/2021 05:24:23 - INFO - m3inference.m3inference -   Running on cpu.\n",
            "04/06/2021 05:24:23 - INFO - m3inference.m3inference -   Will use full M3 model.\n",
            "04/06/2021 05:24:24 - INFO - m3inference.m3inference -   Dir /root/m3/models/ does not exist. Creating now.\n",
            "04/06/2021 05:24:24 - INFO - m3inference.m3inference -   Dir /root/m3/models/ created.\n",
            "04/06/2021 05:24:24 - INFO - m3inference.m3inference -   Model full_model does not exist at /root/m3/models/full_model.mdl. Try to download it now.\n",
            "04/06/2021 05:24:24 - INFO - m3inference.utils -   /root/m3/models/full_model.mdl not found in cache, downloading from https://nlp.stanford.edu/~zijwang/m3inference/full_model.mdl to /tmp/tmpshj6qltp\n",
            "141007KB [01:42, 1373.95KB/s]                           \n",
            "04/06/2021 05:26:07 - INFO - m3inference.utils -   Model full_model was downloaded to a tmp file.\n",
            "04/06/2021 05:26:07 - INFO - m3inference.utils -   Copying tmp file to /root/m3/models/full_model.mdl.\n",
            "04/06/2021 05:26:08 - INFO - m3inference.utils -   Copied tmp model file to /root/m3/models/full_model.mdl.\n",
            "04/06/2021 05:26:08 - INFO - m3inference.utils -   Checking MD5 for model full_model at /root/m3/models/full_model.mdl\n",
            "04/06/2021 05:26:08 - INFO - m3inference.utils -   MD5s match.\n",
            "04/06/2021 05:26:08 - INFO - m3inference.m3inference -   Loaded pretrained weight at /root/m3/models/full_model.mdl\n",
            "04/06/2021 05:26:08 - INFO - m3inference.m3twitter -   Dir /root/m3/cache does not exist. Creating now.\n",
            "04/06/2021 05:26:08 - INFO - m3inference.m3twitter -   Dir /root/m3/cache created.\n",
            "04/06/2021 05:26:09 - INFO - m3inference.m3twitter -   Results not in cache. Fetching data from Twitter for jayholz410.\n",
            "04/06/2021 05:26:09 - INFO - m3inference.m3twitter -   GET /users/show.json?screen_name=jayholz410\n",
            "04/06/2021 05:26:09 - WARNING - m3inference.m3twitter -   Could not retreive screen_name\n",
            "04/06/2021 05:26:09 - WARNING - m3inference.m3twitter -   Could not retreive id_str\n",
            "04/06/2021 05:26:09 - WARNING - m3inference.m3twitter -   Could not retreive description\n",
            "04/06/2021 05:26:09 - WARNING - m3inference.m3twitter -   Could not retreive name\n",
            "04/06/2021 05:26:09 - WARNING - m3inference.m3twitter -   Could not retreive profile_image_url\n",
            "04/06/2021 05:26:09 - WARNING - m3inference.m3twitter -   Unable to extract image from Twitter. Using default image.\n",
            "04/06/2021 05:26:09 - INFO - m3inference.dataset -   1 data entries loaded.\n",
            "Predicting...: 100%|██████████| 1/1 [00:01<00:00,  1.25s/it]"
          ],
          "name": "stderr"
        },
        {
          "output_type": "stream",
          "text": [
            "{'input': {'description': '',\n",
            "           'id': 'dummy',\n",
            "           'img_path': '/usr/local/lib/python3.7/dist-packages/m3inference/data/tw_default_profile.png',\n",
            "           'lang': 'un',\n",
            "           'name': '',\n",
            "           'screen_name': ''},\n",
            " 'output': {'age': {'19-29': 0.2393,\n",
            "                    '30-39': 0.0793,\n",
            "                    '<=18': 0.1746,\n",
            "                    '>=40': 0.5067},\n",
            "            'gender': {'female': 0.2809, 'male': 0.7191},\n",
            "            'org': {'is-org': 0.0873, 'non-org': 0.9127}}}\n"
          ],
          "name": "stdout"
        },
        {
          "output_type": "stream",
          "text": [
            "\n"
          ],
          "name": "stderr"
        }
      ]
    },
    {
      "cell_type": "code",
      "metadata": {
        "id": "ZTG4PyZWgUic"
      },
      "source": [
        "# Create new column to save the predicted value\n",
        "df[\"age\"] = 0\n",
        "df[\"gender\"] = \"male\"\n",
        "df[\"org\"] = \"\""
      ],
      "execution_count": 11,
      "outputs": []
    },
    {
      "cell_type": "code",
      "metadata": {
        "id": "nue5_c5-EFkU"
      },
      "source": [
        "# Loop over each row to assign the predict value, should be used with M3\n",
        "for index, row in df.iterrows():\n",
        "    df.at[index, 'age'] = 1"
      ],
      "execution_count": null,
      "outputs": []
    },
    {
      "cell_type": "code",
      "metadata": {
        "id": "tfJLpblGqGCa"
      },
      "source": [
        "# Get authentication for tweepy from auth.txt\n",
        "# auth.txt was uploaded before in order to use m3inference\n",
        "keys = ''\n",
        "with open(f'/content/drive/MyDrive/auth.txt', 'r') as reader:\n",
        "  keys=reader.read()\n",
        "keys = keys.split('\\n')\n",
        "for i in range(len(keys)):\n",
        "  keys[i] = keys[i].split('\"')[1];"
      ],
      "execution_count": 51,
      "outputs": []
    },
    {
      "cell_type": "code",
      "metadata": {
        "id": "mkJZKUyDq-d8"
      },
      "source": [
        "# Setup tweepy\n",
        "import tweepy\n",
        "api_key = keys[0]\n",
        "api_secret = keys[1]\n",
        "access_token = keys[2]\n",
        "access_secret = keys[3]\n",
        "auth = tweepy.OAuthHandler(api_key, api_secret)\n",
        "auth.set_access_token(access_token, access_secret)\n",
        "api = tweepy.API(auth, wait_on_rate_limit=True, wait_on_rate_limit_notify=True)"
      ],
      "execution_count": 35,
      "outputs": []
    },
    {
      "cell_type": "code",
      "metadata": {
        "id": "fzZPtdyLEu13",
        "colab": {
          "base_uri": "https://localhost:8080/"
        },
        "outputId": "3e2b8087-e9bf-4148-ac61-e0653ff80fe0"
      },
      "source": [
        "# Try first user\n",
        "user = df['Username']\n",
        "userID = user[0]\n",
        "print(userID)\n",
        "tweets = api.user_timeline(screen_name=userID,count=100,include_rts = False,tweet_mode = 'extended')"
      ],
      "execution_count": 41,
      "outputs": [
        {
          "output_type": "stream",
          "text": [
            "JayHolz410\n"
          ],
          "name": "stdout"
        }
      ]
    },
    {
      "cell_type": "code",
      "metadata": {
        "id": "DiT4Oth3um1B",
        "outputId": "9fb281ac-546b-4575-ff25-164fd7b7ecaa",
        "colab": {
          "base_uri": "https://localhost:8080/"
        }
      },
      "source": [
        "# Extract full text from tweets\n",
        "tweet_text = [tweet._json['full_text'] for tweet in tweets]\n",
        "print(len(tweet_text))"
      ],
      "execution_count": 50,
      "outputs": [
        {
          "output_type": "stream",
          "text": [
            "94\n"
          ],
          "name": "stdout"
        }
      ]
    },
    {
      "cell_type": "markdown",
      "metadata": {
        "id": "Fwi5LoStxOBD"
      },
      "source": [
        "TODO: Using BERT to extract fixed feature vectors \n",
        "\n",
        "https://github.com/google-research/bert#using-bert-to-extract-fixed-feature-vectors-like-elmo"
      ]
    },
    {
      "cell_type": "code",
      "metadata": {
        "id": "ITcbwhlbxSEx",
        "outputId": "841d58a8-878d-4137-d749-08b4b0ed0038",
        "colab": {
          "base_uri": "https://localhost:8080/",
          "height": 694
        }
      },
      "source": [
        "# drop rows does not have age label in the labeled dataset\n",
        "age_no_na = df_labeled[df_labeled['human.labeled.age'].notna()]\n",
        "age_no_na"
      ],
      "execution_count": 59,
      "outputs": [
        {
          "output_type": "execute_result",
          "data": {
            "text/html": [
              "<div>\n",
              "<style scoped>\n",
              "    .dataframe tbody tr th:only-of-type {\n",
              "        vertical-align: middle;\n",
              "    }\n",
              "\n",
              "    .dataframe tbody tr th {\n",
              "        vertical-align: top;\n",
              "    }\n",
              "\n",
              "    .dataframe thead th {\n",
              "        text-align: right;\n",
              "    }\n",
              "</style>\n",
              "<table border=\"1\" class=\"dataframe\">\n",
              "  <thead>\n",
              "    <tr style=\"text-align: right;\">\n",
              "      <th></th>\n",
              "      <th>Unnamed: 0</th>\n",
              "      <th>screen_name</th>\n",
              "      <th>user_id</th>\n",
              "      <th>lang</th>\n",
              "      <th>name</th>\n",
              "      <th>location</th>\n",
              "      <th>description</th>\n",
              "      <th>protected</th>\n",
              "      <th>followers_count</th>\n",
              "      <th>friends_count</th>\n",
              "      <th>statuses_count</th>\n",
              "      <th>favourites_count</th>\n",
              "      <th>account_created_at</th>\n",
              "      <th>verified</th>\n",
              "      <th>profile_banner_url</th>\n",
              "      <th>profile_background_url</th>\n",
              "      <th>profile_image_url</th>\n",
              "      <th>user.name</th>\n",
              "      <th>num.tweets.used.Lexicon.prediction</th>\n",
              "      <th>Lexicon.age.prediction</th>\n",
              "      <th>Lexicon.gender.prediction..index.</th>\n",
              "      <th>lexicon.gender.prediction</th>\n",
              "      <th>human.labeled.gender</th>\n",
              "      <th>human.labeled.age</th>\n",
              "    </tr>\n",
              "  </thead>\n",
              "  <tbody>\n",
              "    <tr>\n",
              "      <th>0</th>\n",
              "      <td>1</td>\n",
              "      <td>_____zac_____</td>\n",
              "      <td>4.614412e+08</td>\n",
              "      <td>en</td>\n",
              "      <td>zac ¢</td>\n",
              "      <td>Maryland, USA</td>\n",
              "      <td>_____Û___È_Ü´Ù</td>\n",
              "      <td>False</td>\n",
              "      <td>208</td>\n",
              "      <td>178</td>\n",
              "      <td>27912</td>\n",
              "      <td>4179</td>\n",
              "      <td>1/11/12 20:19</td>\n",
              "      <td>False</td>\n",
              "      <td>https://pbs.twimg.com/profile_banners/46144118...</td>\n",
              "      <td>http://abs.twimg.com/images/themes/theme1/bg.png</td>\n",
              "      <td>http://pbs.twimg.com/profile_images/1226134911...</td>\n",
              "      <td>@_____zac_____</td>\n",
              "      <td>100.0</td>\n",
              "      <td>27.652434</td>\n",
              "      <td>-1.457167</td>\n",
              "      <td>M</td>\n",
              "      <td>NaN</td>\n",
              "      <td>23.0</td>\n",
              "    </tr>\n",
              "    <tr>\n",
              "      <th>1</th>\n",
              "      <td>2</td>\n",
              "      <td>___aleia</td>\n",
              "      <td>7.650000e+17</td>\n",
              "      <td>en</td>\n",
              "      <td>_æ___ dad ___æ_</td>\n",
              "      <td>Ohio, USA</td>\n",
              "      <td>BLACK. LIVES. MATTER.</td>\n",
              "      <td>False</td>\n",
              "      <td>466</td>\n",
              "      <td>388</td>\n",
              "      <td>3313</td>\n",
              "      <td>23454</td>\n",
              "      <td>8/14/16 19:45</td>\n",
              "      <td>False</td>\n",
              "      <td>https://pbs.twimg.com/profile_banners/76491083...</td>\n",
              "      <td>NaN</td>\n",
              "      <td>http://pbs.twimg.com/profile_images/1271280679...</td>\n",
              "      <td>@___aleia</td>\n",
              "      <td>100.0</td>\n",
              "      <td>24.111464</td>\n",
              "      <td>0.985713</td>\n",
              "      <td>F</td>\n",
              "      <td>NaN</td>\n",
              "      <td>19.0</td>\n",
              "    </tr>\n",
              "    <tr>\n",
              "      <th>3</th>\n",
              "      <td>4</td>\n",
              "      <td>___schaeffer___</td>\n",
              "      <td>1.257110e+09</td>\n",
              "      <td>en</td>\n",
              "      <td>Brenden Schaeffer</td>\n",
              "      <td>The Lou</td>\n",
              "      <td>Culver-Stockton College '20 ¢ Ô_Ô_Ô KM 1548...</td>\n",
              "      <td>False</td>\n",
              "      <td>811</td>\n",
              "      <td>660</td>\n",
              "      <td>26670</td>\n",
              "      <td>72205</td>\n",
              "      <td>3/10/13 14:07</td>\n",
              "      <td>False</td>\n",
              "      <td>https://pbs.twimg.com/profile_banners/12571104...</td>\n",
              "      <td>http://abs.twimg.com/images/themes/theme1/bg.png</td>\n",
              "      <td>http://pbs.twimg.com/profile_images/1268044218...</td>\n",
              "      <td>@___schaeffer___</td>\n",
              "      <td>59.0</td>\n",
              "      <td>35.518352</td>\n",
              "      <td>-3.591586</td>\n",
              "      <td>M</td>\n",
              "      <td>NaN</td>\n",
              "      <td>22.0</td>\n",
              "    </tr>\n",
              "    <tr>\n",
              "      <th>8</th>\n",
              "      <td>9</td>\n",
              "      <td>__drewc</td>\n",
              "      <td>1.050000e+18</td>\n",
              "      <td>en</td>\n",
              "      <td>drew</td>\n",
              "      <td>New York, USA</td>\n",
              "      <td>_öÂ_öé _öÂ_ö_ _ç´Ù È \\r\\r26 #NewYork</td>\n",
              "      <td>False</td>\n",
              "      <td>27</td>\n",
              "      <td>128</td>\n",
              "      <td>181</td>\n",
              "      <td>113</td>\n",
              "      <td>10/17/18 4:12</td>\n",
              "      <td>False</td>\n",
              "      <td>https://pbs.twimg.com/profile_banners/10524118...</td>\n",
              "      <td>http://abs.twimg.com/images/themes/theme1/bg.png</td>\n",
              "      <td>http://pbs.twimg.com/profile_images/1090809548...</td>\n",
              "      <td>@__drewc</td>\n",
              "      <td>134.0</td>\n",
              "      <td>24.910635</td>\n",
              "      <td>1.969121</td>\n",
              "      <td>F</td>\n",
              "      <td>NaN</td>\n",
              "      <td>26.0</td>\n",
              "    </tr>\n",
              "    <tr>\n",
              "      <th>9</th>\n",
              "      <td>10</td>\n",
              "      <td>__EmilyRice__</td>\n",
              "      <td>3.797155e+09</td>\n",
              "      <td>en</td>\n",
              "      <td>em</td>\n",
              "      <td>Marble Falls, TX</td>\n",
              "      <td>#TXST22</td>\n",
              "      <td>False</td>\n",
              "      <td>158</td>\n",
              "      <td>190</td>\n",
              "      <td>1219</td>\n",
              "      <td>2596</td>\n",
              "      <td>10/5/15 23:30</td>\n",
              "      <td>False</td>\n",
              "      <td>https://pbs.twimg.com/profile_banners/37971551...</td>\n",
              "      <td>http://abs.twimg.com/images/themes/theme1/bg.png</td>\n",
              "      <td>http://pbs.twimg.com/profile_images/8415201103...</td>\n",
              "      <td>@__EmilyRice__</td>\n",
              "      <td>100.0</td>\n",
              "      <td>25.191925</td>\n",
              "      <td>2.382856</td>\n",
              "      <td>F</td>\n",
              "      <td>NaN</td>\n",
              "      <td>20.0</td>\n",
              "    </tr>\n",
              "    <tr>\n",
              "      <th>...</th>\n",
              "      <td>...</td>\n",
              "      <td>...</td>\n",
              "      <td>...</td>\n",
              "      <td>...</td>\n",
              "      <td>...</td>\n",
              "      <td>...</td>\n",
              "      <td>...</td>\n",
              "      <td>...</td>\n",
              "      <td>...</td>\n",
              "      <td>...</td>\n",
              "      <td>...</td>\n",
              "      <td>...</td>\n",
              "      <td>...</td>\n",
              "      <td>...</td>\n",
              "      <td>...</td>\n",
              "      <td>...</td>\n",
              "      <td>...</td>\n",
              "      <td>...</td>\n",
              "      <td>...</td>\n",
              "      <td>...</td>\n",
              "      <td>...</td>\n",
              "      <td>...</td>\n",
              "      <td>...</td>\n",
              "      <td>...</td>\n",
              "    </tr>\n",
              "    <tr>\n",
              "      <th>3271</th>\n",
              "      <td>3272</td>\n",
              "      <td>ZoeBerrier</td>\n",
              "      <td>9.020000e+17</td>\n",
              "      <td>en</td>\n",
              "      <td>Zoâ _êâ</td>\n",
              "      <td>Millersville, PA</td>\n",
              "      <td>MU 2021 (she/her)\\r\\rQueen of putting lipstick...</td>\n",
              "      <td>False</td>\n",
              "      <td>94</td>\n",
              "      <td>298</td>\n",
              "      <td>858</td>\n",
              "      <td>4428</td>\n",
              "      <td>8/28/17 21:03</td>\n",
              "      <td>False</td>\n",
              "      <td>https://pbs.twimg.com/profile_banners/90227535...</td>\n",
              "      <td>NaN</td>\n",
              "      <td>http://pbs.twimg.com/profile_images/1241199033...</td>\n",
              "      <td>@ZoeBerrier</td>\n",
              "      <td>100.0</td>\n",
              "      <td>22.585143</td>\n",
              "      <td>1.243141</td>\n",
              "      <td>F</td>\n",
              "      <td>F</td>\n",
              "      <td>20.0</td>\n",
              "    </tr>\n",
              "    <tr>\n",
              "      <th>3272</th>\n",
              "      <td>3273</td>\n",
              "      <td>ZoeCalamaco</td>\n",
              "      <td>3.214954e+09</td>\n",
              "      <td>no</td>\n",
              "      <td>Zoe _</td>\n",
              "      <td>San Angelo tx/ aspermont tx</td>\n",
              "      <td>Angelo state</td>\n",
              "      <td>False</td>\n",
              "      <td>475</td>\n",
              "      <td>318</td>\n",
              "      <td>6494</td>\n",
              "      <td>7475</td>\n",
              "      <td>4/28/15 0:24</td>\n",
              "      <td>False</td>\n",
              "      <td>https://pbs.twimg.com/profile_banners/32149543...</td>\n",
              "      <td>http://abs.twimg.com/images/themes/theme1/bg.png</td>\n",
              "      <td>http://pbs.twimg.com/profile_images/1277399838...</td>\n",
              "      <td>@ZoeCalamaco</td>\n",
              "      <td>100.0</td>\n",
              "      <td>21.348766</td>\n",
              "      <td>1.939069</td>\n",
              "      <td>F</td>\n",
              "      <td>F</td>\n",
              "      <td>21.0</td>\n",
              "    </tr>\n",
              "    <tr>\n",
              "      <th>3274</th>\n",
              "      <td>3275</td>\n",
              "      <td>ZoPeachy</td>\n",
              "      <td>9.890000e+17</td>\n",
              "      <td>en</td>\n",
              "      <td>Zobella Thee Alpha __ê_____´Ù__ ...</td>\n",
              "      <td>New England/Boston, MA</td>\n",
              "      <td>Harlot for hire. FinDom. 27. Nonbinary. they/t...</td>\n",
              "      <td>False</td>\n",
              "      <td>396</td>\n",
              "      <td>635</td>\n",
              "      <td>3553</td>\n",
              "      <td>2075</td>\n",
              "      <td>4/25/18 3:51</td>\n",
              "      <td>False</td>\n",
              "      <td>https://pbs.twimg.com/profile_banners/98898876...</td>\n",
              "      <td>http://abs.twimg.com/images/themes/theme1/bg.png</td>\n",
              "      <td>http://pbs.twimg.com/profile_images/1153648270...</td>\n",
              "      <td>@ZoPeachy</td>\n",
              "      <td>100.0</td>\n",
              "      <td>34.894953</td>\n",
              "      <td>2.058720</td>\n",
              "      <td>F</td>\n",
              "      <td>NaN</td>\n",
              "      <td>27.0</td>\n",
              "    </tr>\n",
              "    <tr>\n",
              "      <th>3277</th>\n",
              "      <td>3278</td>\n",
              "      <td>zupercar1</td>\n",
              "      <td>4.220999e+09</td>\n",
              "      <td>en</td>\n",
              "      <td>Chris Avery _ê___êÈ</td>\n",
              "      <td>Ann Arbor, MI</td>\n",
              "      <td>Comic Book Artist/ Film Major / I like space.....</td>\n",
              "      <td>False</td>\n",
              "      <td>121</td>\n",
              "      <td>1974</td>\n",
              "      <td>31208</td>\n",
              "      <td>70426</td>\n",
              "      <td>11/18/15 20:57</td>\n",
              "      <td>False</td>\n",
              "      <td>https://pbs.twimg.com/profile_banners/42209994...</td>\n",
              "      <td>http://abs.twimg.com/images/themes/theme1/bg.png</td>\n",
              "      <td>http://pbs.twimg.com/profile_images/1145126143...</td>\n",
              "      <td>@zupercar1</td>\n",
              "      <td>100.0</td>\n",
              "      <td>23.884346</td>\n",
              "      <td>-2.540524</td>\n",
              "      <td>M</td>\n",
              "      <td>NaN</td>\n",
              "      <td>21.0</td>\n",
              "    </tr>\n",
              "    <tr>\n",
              "      <th>3279</th>\n",
              "      <td>3280</td>\n",
              "      <td>zzzakari4</td>\n",
              "      <td>1.020000e+18</td>\n",
              "      <td>en</td>\n",
              "      <td>_«_«ê_«__«ê</td>\n",
              "      <td>Moreno Valley, CA</td>\n",
              "      <td>i hate making bios oh my godddd UCIÈ21</td>\n",
              "      <td>False</td>\n",
              "      <td>60</td>\n",
              "      <td>283</td>\n",
              "      <td>4239</td>\n",
              "      <td>27947</td>\n",
              "      <td>7/23/18 7:05</td>\n",
              "      <td>False</td>\n",
              "      <td>https://pbs.twimg.com/profile_banners/10212902...</td>\n",
              "      <td>http://abs.twimg.com/images/themes/theme1/bg.png</td>\n",
              "      <td>http://pbs.twimg.com/profile_images/1221708547...</td>\n",
              "      <td>@zzzakari4</td>\n",
              "      <td>100.0</td>\n",
              "      <td>17.257385</td>\n",
              "      <td>0.288805</td>\n",
              "      <td>F</td>\n",
              "      <td>NaN</td>\n",
              "      <td>21.0</td>\n",
              "    </tr>\n",
              "  </tbody>\n",
              "</table>\n",
              "<p>1423 rows × 24 columns</p>\n",
              "</div>"
            ],
            "text/plain": [
              "      Unnamed: 0      screen_name  ...  human.labeled.gender human.labeled.age\n",
              "0              1    _____zac_____  ...                   NaN              23.0\n",
              "1              2         ___aleia  ...                   NaN              19.0\n",
              "3              4  ___schaeffer___  ...                   NaN              22.0\n",
              "8              9          __drewc  ...                   NaN              26.0\n",
              "9             10    __EmilyRice__  ...                   NaN              20.0\n",
              "...          ...              ...  ...                   ...               ...\n",
              "3271        3272       ZoeBerrier  ...                     F              20.0\n",
              "3272        3273      ZoeCalamaco  ...                     F              21.0\n",
              "3274        3275         ZoPeachy  ...                   NaN              27.0\n",
              "3277        3278        zupercar1  ...                   NaN              21.0\n",
              "3279        3280        zzzakari4  ...                   NaN              21.0\n",
              "\n",
              "[1423 rows x 24 columns]"
            ]
          },
          "metadata": {
            "tags": []
          },
          "execution_count": 59
        }
      ]
    },
    {
      "cell_type": "code",
      "metadata": {
        "id": "EgURxU3ly7tK"
      },
      "source": [
        ""
      ],
      "execution_count": null,
      "outputs": []
    }
  ]
}