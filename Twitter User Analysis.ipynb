{
  "nbformat": 4,
  "nbformat_minor": 0,
  "metadata": {
    "colab": {
      "name": "CS505-demographic-identifier.ipynb",
      "provenance": [],
      "mount_file_id": "https://github.com/WangKehanK/CS505/blob/main/Twitter%20User%20Analysis.ipynb",
      "authorship_tag": "ABX9TyMkh18fAz3lnI49n3wQ9ejG",
      "include_colab_link": true
    },
    "kernelspec": {
      "name": "python3",
      "display_name": "Python 3"
    },
    "language_info": {
      "name": "python"
    }
  },
  "cells": [
    {
      "cell_type": "markdown",
      "metadata": {
        "id": "view-in-github",
        "colab_type": "text"
      },
      "source": [
        "<a href=\"https://colab.research.google.com/github/WangKehanK/CS505/blob/main/Twitter%20User%20Analysis.ipynb\" target=\"_parent\"><img src=\"https://colab.research.google.com/assets/colab-badge.svg\" alt=\"Open In Colab\"/></a>"
      ]
    },
    {
      "cell_type": "code",
      "metadata": {
        "colab": {
          "base_uri": "https://localhost:8080/"
        },
        "id": "frlUYrxsCjZZ",
        "outputId": "34850111-6160-4610-8545-323a53ce01b9"
      },
      "source": [
        "!pip install m3inference"
      ],
      "execution_count": 6,
      "outputs": [
        {
          "output_type": "stream",
          "text": [
            "Requirement already satisfied: m3inference in /usr/local/lib/python3.7/dist-packages (1.1.4)\n",
            "Requirement already satisfied: numpy>=1.13 in /usr/local/lib/python3.7/dist-packages (from m3inference) (1.19.5)\n",
            "Requirement already satisfied: pandas>=0.20 in /usr/local/lib/python3.7/dist-packages (from m3inference) (1.1.5)\n",
            "Requirement already satisfied: requests in /usr/local/lib/python3.7/dist-packages (from m3inference) (2.23.0)\n",
            "Requirement already satisfied: Pillow in /usr/local/lib/python3.7/dist-packages (from m3inference) (7.1.2)\n",
            "Requirement already satisfied: torch>=1.0.0 in /usr/local/lib/python3.7/dist-packages (from m3inference) (1.8.1+cu101)\n",
            "Requirement already satisfied: tqdm in /usr/local/lib/python3.7/dist-packages (from m3inference) (4.41.1)\n",
            "Requirement already satisfied: pycld2>=0.31 in /usr/local/lib/python3.7/dist-packages (from m3inference) (0.41)\n",
            "Requirement already satisfied: rauth in /usr/local/lib/python3.7/dist-packages (from m3inference) (0.7.3)\n",
            "Requirement already satisfied: torchvision>=0.2.2 in /usr/local/lib/python3.7/dist-packages (from m3inference) (0.9.1+cu101)\n",
            "Requirement already satisfied: pytz>=2017.2 in /usr/local/lib/python3.7/dist-packages (from pandas>=0.20->m3inference) (2018.9)\n",
            "Requirement already satisfied: python-dateutil>=2.7.3 in /usr/local/lib/python3.7/dist-packages (from pandas>=0.20->m3inference) (2.8.1)\n",
            "Requirement already satisfied: chardet<4,>=3.0.2 in /usr/local/lib/python3.7/dist-packages (from requests->m3inference) (3.0.4)\n",
            "Requirement already satisfied: urllib3!=1.25.0,!=1.25.1,<1.26,>=1.21.1 in /usr/local/lib/python3.7/dist-packages (from requests->m3inference) (1.24.3)\n",
            "Requirement already satisfied: idna<3,>=2.5 in /usr/local/lib/python3.7/dist-packages (from requests->m3inference) (2.10)\n",
            "Requirement already satisfied: certifi>=2017.4.17 in /usr/local/lib/python3.7/dist-packages (from requests->m3inference) (2020.12.5)\n",
            "Requirement already satisfied: typing-extensions in /usr/local/lib/python3.7/dist-packages (from torch>=1.0.0->m3inference) (3.7.4.3)\n",
            "Requirement already satisfied: six>=1.5 in /usr/local/lib/python3.7/dist-packages (from python-dateutil>=2.7.3->pandas>=0.20->m3inference) (1.15.0)\n"
          ],
          "name": "stdout"
        }
      ]
    },
    {
      "cell_type": "code",
      "metadata": {
        "id": "EAQMq2x0k-8N"
      },
      "source": [
        "import numpy as np\n",
        "import pandas as pd\n",
        "from m3inference import M3Twitter\n",
        "import json\n",
        "import os\n",
        "import pprint"
      ],
      "execution_count": 7,
      "outputs": []
    },
    {
      "cell_type": "code",
      "metadata": {
        "id": "NQS-blVlmJr7"
      },
      "source": [
        "df = pd.read_csv(\"/content/drive/MyDrive/Twitter_user_handles_to_predict.csv\", encoding = \"utf-8\")\n",
        "df_labeled = pd.read_csv(\"/content/drive/My Drive/Twitter_users_labeled_with_age_and_gender.csv\", encoding = \"latin-1\")\n"
      ],
      "execution_count": 8,
      "outputs": []
    },
    {
      "cell_type": "code",
      "metadata": {
        "id": "xXL6fbvHd_-l",
        "outputId": "23d7a206-5d01-437f-a1d4-def4cb191115",
        "colab": {
          "base_uri": "https://localhost:8080/"
        }
      },
      "source": [
        "df.info()"
      ],
      "execution_count": 9,
      "outputs": [
        {
          "output_type": "stream",
          "text": [
            "<class 'pandas.core.frame.DataFrame'>\n",
            "RangeIndex: 25129 entries, 0 to 25128\n",
            "Data columns (total 2 columns):\n",
            " #   Column    Non-Null Count  Dtype \n",
            "---  ------    --------------  ----- \n",
            " 0   ID        25129 non-null  int64 \n",
            " 1   Username  25128 non-null  object\n",
            "dtypes: int64(1), object(1)\n",
            "memory usage: 392.8+ KB\n"
          ],
          "name": "stdout"
        }
      ]
    },
    {
      "cell_type": "code",
      "metadata": {
        "id": "R3-SHoESmbEr",
        "colab": {
          "base_uri": "https://localhost:8080/",
          "height": 204
        },
        "outputId": "13da8524-9881-4fdd-bcde-ca1177c0fc93"
      },
      "source": [
        "df.head()"
      ],
      "execution_count": 10,
      "outputs": [
        {
          "output_type": "execute_result",
          "data": {
            "text/html": [
              "<div>\n",
              "<style scoped>\n",
              "    .dataframe tbody tr th:only-of-type {\n",
              "        vertical-align: middle;\n",
              "    }\n",
              "\n",
              "    .dataframe tbody tr th {\n",
              "        vertical-align: top;\n",
              "    }\n",
              "\n",
              "    .dataframe thead th {\n",
              "        text-align: right;\n",
              "    }\n",
              "</style>\n",
              "<table border=\"1\" class=\"dataframe\">\n",
              "  <thead>\n",
              "    <tr style=\"text-align: right;\">\n",
              "      <th></th>\n",
              "      <th>ID</th>\n",
              "      <th>Username</th>\n",
              "    </tr>\n",
              "  </thead>\n",
              "  <tbody>\n",
              "    <tr>\n",
              "      <th>0</th>\n",
              "      <td>1</td>\n",
              "      <td>JayHolz410</td>\n",
              "    </tr>\n",
              "    <tr>\n",
              "      <th>1</th>\n",
              "      <td>2</td>\n",
              "      <td>kelechief</td>\n",
              "    </tr>\n",
              "    <tr>\n",
              "      <th>2</th>\n",
              "      <td>3</td>\n",
              "      <td>VicSpencer</td>\n",
              "    </tr>\n",
              "    <tr>\n",
              "      <th>3</th>\n",
              "      <td>4</td>\n",
              "      <td>ItsAlexDodson</td>\n",
              "    </tr>\n",
              "    <tr>\n",
              "      <th>4</th>\n",
              "      <td>5</td>\n",
              "      <td>xopinkvodka6</td>\n",
              "    </tr>\n",
              "  </tbody>\n",
              "</table>\n",
              "</div>"
            ],
            "text/plain": [
              "   ID       Username\n",
              "0   1     JayHolz410\n",
              "1   2      kelechief\n",
              "2   3     VicSpencer\n",
              "3   4  ItsAlexDodson\n",
              "4   5   xopinkvodka6"
            ]
          },
          "metadata": {
            "tags": []
          },
          "execution_count": 10
        }
      ]
    },
    {
      "cell_type": "code",
      "metadata": {
        "id": "3Gv_uF5lDNWD"
      },
      "source": [
        "user_list = df['Username'].tolist()\n",
        "id_list = df_labeled['user_id'].tolist()"
      ],
      "execution_count": 11,
      "outputs": []
    },
    {
      "cell_type": "code",
      "metadata": {
        "id": "HtMtINoPC0gW",
        "outputId": "f2f04247-0b2f-4187-cb00-1364c539de3b",
        "colab": {
          "base_uri": "https://localhost:8080/"
        }
      },
      "source": [
        "username = user_list[0] # try one user first, we can loop over the entire user list to get all the user detail\n",
        "m3cachedir = \"drive/MyDrive/cachedir\"\n",
        "\n",
        "if not os.path.exists(m3cachedir):\n",
        "  os.mkdir(m3cachedir)\n",
        "\n",
        "with open(f'/content/{m3cachedir}/{username}.json', 'w') as json_file:\n",
        "  # initialization\n",
        "  m3twitter=M3Twitter()\n",
        "\n",
        "  # remember to upload Twitter API keys, format as https://github.com/euagendas/m3inference/blob/master/scripts/auth_example.txt\n",
        "  m3twitter.twitter_init_from_file(\"/content/drive/MyDrive/auth.txt\")\n",
        "\n",
        "  # you can also use m3twitter.infer_id(id = \"....\")\n",
        "  user_detail = m3twitter.infer_screen_name(username)\n",
        "\n",
        "  # print the user detail\n",
        "  pprint.pprint(user_detail)\n",
        "  # save the user detail for future use\n",
        "  json.dump(user_detail, json_file)\n"
      ],
      "execution_count": 13,
      "outputs": [
        {
          "output_type": "stream",
          "text": [
            "04/03/2021 20:45:32 - INFO - m3inference.m3inference -   Version 1.1.4\n",
            "04/03/2021 20:45:32 - INFO - m3inference.m3inference -   Running on cpu.\n",
            "04/03/2021 20:45:32 - INFO - m3inference.m3inference -   Will use full M3 model.\n",
            "04/03/2021 20:45:32 - INFO - m3inference.m3inference -   Dir /root/m3/models/ does not exist. Creating now.\n",
            "04/03/2021 20:45:32 - INFO - m3inference.m3inference -   Dir /root/m3/models/ created.\n",
            "04/03/2021 20:45:32 - INFO - m3inference.m3inference -   Model full_model does not exist at /root/m3/models/full_model.mdl. Try to download it now.\n",
            "04/03/2021 20:45:32 - INFO - m3inference.utils -   /root/m3/models/full_model.mdl not found in cache, downloading from https://nlp.stanford.edu/~zijwang/m3inference/full_model.mdl to /tmp/tmplyyjx0le\n",
            "141007KB [00:24, 5723.48KB/s]                             \n",
            "04/03/2021 20:45:57 - INFO - m3inference.utils -   Model full_model was downloaded to a tmp file.\n",
            "04/03/2021 20:45:57 - INFO - m3inference.utils -   Copying tmp file to /root/m3/models/full_model.mdl.\n",
            "04/03/2021 20:45:58 - INFO - m3inference.utils -   Copied tmp model file to /root/m3/models/full_model.mdl.\n",
            "04/03/2021 20:45:58 - INFO - m3inference.utils -   Checking MD5 for model full_model at /root/m3/models/full_model.mdl\n",
            "04/03/2021 20:45:58 - INFO - m3inference.utils -   MD5s match.\n",
            "04/03/2021 20:45:58 - INFO - m3inference.m3inference -   Loaded pretrained weight at /root/m3/models/full_model.mdl\n",
            "04/03/2021 20:45:58 - INFO - m3inference.m3twitter -   Dir /root/m3/cache does not exist. Creating now.\n",
            "04/03/2021 20:45:58 - INFO - m3inference.m3twitter -   Dir /root/m3/cache created.\n",
            "04/03/2021 20:45:59 - INFO - m3inference.m3twitter -   Results not in cache. Fetching data from Twitter for jayholz410.\n",
            "04/03/2021 20:45:59 - INFO - m3inference.m3twitter -   GET /users/show.json?screen_name=jayholz410\n",
            "04/03/2021 20:45:59 - INFO - m3inference.dataset -   1 data entries loaded.\n",
            "Predicting...: 100%|██████████| 1/1 [00:00<00:00,  1.16it/s]"
          ],
          "name": "stderr"
        },
        {
          "output_type": "stream",
          "text": [
            "{'input': {'description': 'The QB at @PositiveVibe410. Management: @DaKidGowie '\n",
            "                          '@tate_kobang @joydeangela @RealYGBeats @lorchoc_hd '\n",
            "                          '@CharliePeacher @millzdxuglas',\n",
            "           'id': '288657952',\n",
            "           'img_path': '/root/m3/cache/288657952_224x224.jpg',\n",
            "           'lang': 'en',\n",
            "           'name': 'Jay Holz',\n",
            "           'screen_name': 'JayHolz410'},\n",
            " 'output': {'age': {'19-29': 0.147,\n",
            "                    '30-39': 0.8197,\n",
            "                    '<=18': 0.0049,\n",
            "                    '>=40': 0.0285},\n",
            "            'gender': {'female': 0.0006, 'male': 0.9994},\n",
            "            'org': {'is-org': 0.0, 'non-org': 1.0}}}\n"
          ],
          "name": "stdout"
        },
        {
          "output_type": "stream",
          "text": [
            "\n"
          ],
          "name": "stderr"
        }
      ]
    },
    {
      "cell_type": "code",
      "metadata": {
        "id": "ZTG4PyZWgUic"
      },
      "source": [
        "# Create new column to save the predicted value\n",
        "df[\"age\"] = 0\n",
        "df[\"gender\"] = \"male\"\n",
        "df[\"org\"] = \"\""
      ],
      "execution_count": 16,
      "outputs": []
    },
    {
      "cell_type": "code",
      "metadata": {
        "id": "nue5_c5-EFkU"
      },
      "source": [
        "# Loop over each row to assign the predict value, should be used with M3\n",
        "for index, row in df.iterrows():\n",
        "    df.at[index, 'age'] = 1"
      ],
      "execution_count": 24,
      "outputs": []
    },
    {
      "cell_type": "code",
      "metadata": {
        "id": "fzZPtdyLEu13"
      },
      "source": [
        ""
      ],
      "execution_count": null,
      "outputs": []
    }
  ]
}